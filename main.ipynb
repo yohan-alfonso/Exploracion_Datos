{
 "cells": [
  {
   "attachments": {},
   "cell_type": "markdown",
   "metadata": {},
   "source": [
    "### Imputaciónes Simples\n",
    "- Imputación por la medio o mediana, si hay muchos datos faltantes esto puede cambiar la desviación de los datos por lo cual no es aconsejable \n",
    "- Imputación por regresión (el valor se cambia por un valor predicho por un modelo de regresión combinando la informaciónm de las columnas o variables faltantes con columnas donde los datos están completos)\n",
    "- Imputación Hot-Deck  KNN (key nearest neigborg reemplaza los datos faltantes por datos vecinos) se usa cuando no se puede garantizar correlación entre los datos \n",
    "\n",
    "### Imputaciones Multiples\n",
    "\n",
    "- MICE: Multiple Imputation by Chain Equations (las variables tienen que estar relacionadas linealmente)"
   ]
  },
  {
   "attachments": {},
   "cell_type": "markdown",
   "metadata": {},
   "source": [
    "Se debe identificar la correlación de los datos"
   ]
  },
  {
   "attachments": {},
   "cell_type": "markdown",
   "metadata": {},
   "source": [
    "# Exploración de datos"
   ]
  },
  {
   "attachments": {},
   "cell_type": "markdown",
   "metadata": {},
   "source": [
    "* Tener clara la pregunta que queremos responder;\n",
    "* Tener una idea general de nuestro dataset;\n",
    "* Definir los tipos de datos que tenemos;\n",
    "* Elegir el tipo de estadística descriptiva\n",
    "* Visualizar los datos;\n",
    "* Analizar las posibles interacciones entre las variables del dataset; y finalmente\n",
    "* Extraer algunas conclusiones de todo este análisis."
   ]
  },
  {
   "attachments": {},
   "cell_type": "markdown",
   "metadata": {},
   "source": [
    "### Tipos de datos\n",
    "\n",
    "Los siguientes datos son obtenidos del archivo \"clean_df.csv\"\n",
    "\n",
    "- initial_sal_ Initial salary offered \n",
    "- final_sal Final salary offered\n",
    "- mean_salary Mean salary obtained from the first two columns\n",
    "- period Period of time year, month, week , hour that the payment of the salary is stablished\n",
    "- period_cond The contions offered acroding to the job\n",
    "- job The position that the persons is taking\n",
    "- job_type The type of job full time, part time....\n",
    "- city City where the person has to work\n",
    "- state The State of the city\n",
    "- organization_ Name of the organization\n",
    "- org_desc Description of the organization\n",
    "- sector_ Sector that the organization belongs to\n",
    "- sector_level Level of the position like manager or support\n",
    "- benefits Benefits offered by the organization"
   ]
  },
  {
   "cell_type": "code",
   "execution_count": 442,
   "metadata": {},
   "outputs": [],
   "source": [
    "import pandas as pd\n",
    "import numpy as np"
   ]
  },
  {
   "cell_type": "code",
   "execution_count": 443,
   "metadata": {},
   "outputs": [],
   "source": [
    "df = pd.read_csv('clean_df.csv',encoding=\"utf-8\")\n",
    "#Carga de datos a un dataframe en pandas"
   ]
  },
  {
   "cell_type": "code",
   "execution_count": 444,
   "metadata": {},
   "outputs": [
    {
     "data": {
      "text/html": [
       "<div>\n",
       "<style scoped>\n",
       "    .dataframe tbody tr th:only-of-type {\n",
       "        vertical-align: middle;\n",
       "    }\n",
       "\n",
       "    .dataframe tbody tr th {\n",
       "        vertical-align: top;\n",
       "    }\n",
       "\n",
       "    .dataframe thead th {\n",
       "        text-align: right;\n",
       "    }\n",
       "</style>\n",
       "<table border=\"1\" class=\"dataframe\">\n",
       "  <thead>\n",
       "    <tr style=\"text-align: right;\">\n",
       "      <th></th>\n",
       "      <th>initial_sal_</th>\n",
       "      <th>final_sal</th>\n",
       "      <th>mean_salary</th>\n",
       "      <th>period</th>\n",
       "      <th>period_cond</th>\n",
       "      <th>job</th>\n",
       "      <th>job_type</th>\n",
       "      <th>city</th>\n",
       "      <th>state</th>\n",
       "      <th>organization_</th>\n",
       "      <th>org_desc</th>\n",
       "      <th>sector_</th>\n",
       "      <th>sector_level</th>\n",
       "      <th>benefits</th>\n",
       "    </tr>\n",
       "    <tr>\n",
       "      <th>uniq_id</th>\n",
       "      <th></th>\n",
       "      <th></th>\n",
       "      <th></th>\n",
       "      <th></th>\n",
       "      <th></th>\n",
       "      <th></th>\n",
       "      <th></th>\n",
       "      <th></th>\n",
       "      <th></th>\n",
       "      <th></th>\n",
       "      <th></th>\n",
       "      <th></th>\n",
       "      <th></th>\n",
       "      <th></th>\n",
       "    </tr>\n",
       "  </thead>\n",
       "  <tbody>\n",
       "    <tr>\n",
       "      <th>58435fcab804439efdcaa7ecca0fd783</th>\n",
       "      <td>0.0</td>\n",
       "      <td>0.0</td>\n",
       "      <td>0.0</td>\n",
       "      <td>NaN</td>\n",
       "      <td>NaN</td>\n",
       "      <td>engineer</td>\n",
       "      <td>full time</td>\n",
       "      <td>dixon</td>\n",
       "      <td>ca</td>\n",
       "      <td>Altec</td>\n",
       "      <td>Industries</td>\n",
       "      <td>Experienced</td>\n",
       "      <td>(Non-Manager)</td>\n",
       "      <td>NaN</td>\n",
       "    </tr>\n",
       "    <tr>\n",
       "      <th>64d0272dc8496abfd9523a8df63c184c</th>\n",
       "      <td>0.0</td>\n",
       "      <td>0.0</td>\n",
       "      <td>0.0</td>\n",
       "      <td>NaN</td>\n",
       "      <td>NaN</td>\n",
       "      <td>shift supervisor</td>\n",
       "      <td>full time</td>\n",
       "      <td>camphill</td>\n",
       "      <td>pa</td>\n",
       "      <td>Retail</td>\n",
       "      <td>NaN</td>\n",
       "      <td>Project/Program</td>\n",
       "      <td>Management</td>\n",
       "      <td>NaN</td>\n",
       "    </tr>\n",
       "    <tr>\n",
       "      <th>1e2637cb5f7a2c4615a99a26c0566c66</th>\n",
       "      <td>0.0</td>\n",
       "      <td>0.0</td>\n",
       "      <td>0.0</td>\n",
       "      <td>NaN</td>\n",
       "      <td>NaN</td>\n",
       "      <td>construction pm</td>\n",
       "      <td>full time</td>\n",
       "      <td>charlottesville</td>\n",
       "      <td>va</td>\n",
       "      <td>Computer</td>\n",
       "      <td>IT Services</td>\n",
       "      <td>Experienced</td>\n",
       "      <td>(Non-Manager)</td>\n",
       "      <td>NaN</td>\n",
       "    </tr>\n",
       "    <tr>\n",
       "      <th>a6a2b5e825b8ce1c3b517adb2497c5ed</th>\n",
       "      <td>0.0</td>\n",
       "      <td>0.0</td>\n",
       "      <td>0.0</td>\n",
       "      <td>NaN</td>\n",
       "      <td>NaN</td>\n",
       "      <td>housekeeper</td>\n",
       "      <td>part time</td>\n",
       "      <td>austin</td>\n",
       "      <td>tx 78746</td>\n",
       "      <td>Hotels</td>\n",
       "      <td>Lodging Personal  Household Services</td>\n",
       "      <td>Customer</td>\n",
       "      <td>Support/Client Care</td>\n",
       "      <td>NaN</td>\n",
       "    </tr>\n",
       "    <tr>\n",
       "      <th>2f8bdf60db4d85627ab8f040e67aa78d</th>\n",
       "      <td>0.0</td>\n",
       "      <td>0.0</td>\n",
       "      <td>0.0</td>\n",
       "      <td>NaN</td>\n",
       "      <td>NaN</td>\n",
       "      <td>aflac insurance sales agent</td>\n",
       "      <td>full time</td>\n",
       "      <td>berryville</td>\n",
       "      <td>va 22611</td>\n",
       "      <td>Insurance</td>\n",
       "      <td>NaN</td>\n",
       "      <td>Customer</td>\n",
       "      <td>Support/Client Care</td>\n",
       "      <td>NaN</td>\n",
       "    </tr>\n",
       "  </tbody>\n",
       "</table>\n",
       "</div>"
      ],
      "text/plain": [
       "                                  initial_sal_  final_sal  mean_salary period   \n",
       "uniq_id                                                                         \n",
       "58435fcab804439efdcaa7ecca0fd783           0.0        0.0          0.0    NaN  \\\n",
       "64d0272dc8496abfd9523a8df63c184c           0.0        0.0          0.0    NaN   \n",
       "1e2637cb5f7a2c4615a99a26c0566c66           0.0        0.0          0.0    NaN   \n",
       "a6a2b5e825b8ce1c3b517adb2497c5ed           0.0        0.0          0.0    NaN   \n",
       "2f8bdf60db4d85627ab8f040e67aa78d           0.0        0.0          0.0    NaN   \n",
       "\n",
       "                                 period_cond                           job   \n",
       "uniq_id                                                                      \n",
       "58435fcab804439efdcaa7ecca0fd783         NaN                     engineer   \\\n",
       "64d0272dc8496abfd9523a8df63c184c         NaN             shift supervisor    \n",
       "1e2637cb5f7a2c4615a99a26c0566c66         NaN              construction pm    \n",
       "a6a2b5e825b8ce1c3b517adb2497c5ed         NaN                  housekeeper    \n",
       "2f8bdf60db4d85627ab8f040e67aa78d         NaN  aflac insurance sales agent    \n",
       "\n",
       "                                   job_type             city      state   \n",
       "uniq_id                                                                   \n",
       "58435fcab804439efdcaa7ecca0fd783  full time            dixon         ca  \\\n",
       "64d0272dc8496abfd9523a8df63c184c  full time         camphill         pa   \n",
       "1e2637cb5f7a2c4615a99a26c0566c66  full time  charlottesville         va   \n",
       "a6a2b5e825b8ce1c3b517adb2497c5ed  part time           austin   tx 78746   \n",
       "2f8bdf60db4d85627ab8f040e67aa78d  full time       berryville   va 22611   \n",
       "\n",
       "                                 organization_   \n",
       "uniq_id                                          \n",
       "58435fcab804439efdcaa7ecca0fd783         Altec  \\\n",
       "64d0272dc8496abfd9523a8df63c184c        Retail   \n",
       "1e2637cb5f7a2c4615a99a26c0566c66      Computer   \n",
       "a6a2b5e825b8ce1c3b517adb2497c5ed        Hotels   \n",
       "2f8bdf60db4d85627ab8f040e67aa78d     Insurance   \n",
       "\n",
       "                                                               org_desc   \n",
       "uniq_id                                                                   \n",
       "58435fcab804439efdcaa7ecca0fd783                             Industries  \\\n",
       "64d0272dc8496abfd9523a8df63c184c                                    NaN   \n",
       "1e2637cb5f7a2c4615a99a26c0566c66                            IT Services   \n",
       "a6a2b5e825b8ce1c3b517adb2497c5ed   Lodging Personal  Household Services   \n",
       "2f8bdf60db4d85627ab8f040e67aa78d                                    NaN   \n",
       "\n",
       "                                          sector_         sector_level   \n",
       "uniq_id                                                                  \n",
       "58435fcab804439efdcaa7ecca0fd783      Experienced        (Non-Manager)  \\\n",
       "64d0272dc8496abfd9523a8df63c184c  Project/Program           Management   \n",
       "1e2637cb5f7a2c4615a99a26c0566c66      Experienced        (Non-Manager)   \n",
       "a6a2b5e825b8ce1c3b517adb2497c5ed         Customer  Support/Client Care   \n",
       "2f8bdf60db4d85627ab8f040e67aa78d         Customer  Support/Client Care   \n",
       "\n",
       "                                 benefits  \n",
       "uniq_id                                    \n",
       "58435fcab804439efdcaa7ecca0fd783      NaN  \n",
       "64d0272dc8496abfd9523a8df63c184c      NaN  \n",
       "1e2637cb5f7a2c4615a99a26c0566c66      NaN  \n",
       "a6a2b5e825b8ce1c3b517adb2497c5ed      NaN  \n",
       "2f8bdf60db4d85627ab8f040e67aa78d      NaN  "
      ]
     },
     "execution_count": 444,
     "metadata": {},
     "output_type": "execute_result"
    }
   ],
   "source": [
    "df = df.set_index('uniq_id')\n",
    "df.head(5)\n",
    "# Before doing anything we are going to ser the column 'uniq_id' as an index, this way we are noi going to have integrity issues when makin join o merge"
   ]
  },
  {
   "attachments": {},
   "cell_type": "markdown",
   "metadata": {},
   "source": [
    "Los tipos de datos pueden ser:\n",
    "- numericos:\n",
    "    * discretos (Toman solo valores enteros como la edad)\n",
    "    * continuos (Pueden tomar valor dentro de un intervalo como el salario)\n",
    "- Categoricos\n",
    "    * binarios (undican una de dos posibles categorias 1 o 0 paso la materia o no)\n",
    "    * nominales (etiquetan el dato pero no pueden ser ordenados o medidos como el genero, hombre, mujer o .......)\n",
    "    * ordinales (Corresponden al orden en que vienen los dato)"
   ]
  },
  {
   "cell_type": "code",
   "execution_count": 445,
   "metadata": {},
   "outputs": [
    {
     "data": {
      "text/plain": [
       "initial_sal_     float64\n",
       "final_sal        float64\n",
       "mean_salary      float64\n",
       "period            object\n",
       "period_cond       object\n",
       "job               object\n",
       "job_type          object\n",
       "city              object\n",
       "state             object\n",
       "organization_     object\n",
       "org_desc          object\n",
       "sector_           object\n",
       "sector_level      object\n",
       "benefits          object\n",
       "dtype: object"
      ]
     },
     "execution_count": 445,
     "metadata": {},
     "output_type": "execute_result"
    }
   ],
   "source": [
    "df.dtypes\n",
    "#Tipos de datos\n",
    "# Variables númericas continuos: initial_sal_ , final_sal   ,mean_salary\n",
    "# Period, jobtype are nominales can be both sorted or measured\n",
    "# Variables categoricas El resto de las varibales que puedes encontral en la lista que arroja 'dtypes'"
   ]
  },
  {
   "attachments": {},
   "cell_type": "markdown",
   "metadata": {},
   "source": [
    "### Descripción estadistica\n",
    " Se utilizan medidas:\n",
    " - Tendencia central\n",
    "    * media (se puede aplicar a datos discretos o continuos pero sensible a valores atipicos o sesgados)\n",
    "    * mediana (soluciona el problema de la media y sirve también para datos duscretos u ordinales)\n",
    "    \n",
    "\n",
    " - Verificación de variabilidad de los datos (que tanto se elejan los datos de la media o la mediana):\n",
    "    * Desviación estandar (entre mas bajo el valor los datos estan mas agrupados, sensible a datos sesgados)\n",
    "    * Rango intercuartiles (diferencia entre el percentil 75 y percentil 25, menos sensible a datos sesgados )\n"
   ]
  },
  {
   "cell_type": "code",
   "execution_count": 446,
   "metadata": {},
   "outputs": [
    {
     "data": {
      "text/html": [
       "<div>\n",
       "<style scoped>\n",
       "    .dataframe tbody tr th:only-of-type {\n",
       "        vertical-align: middle;\n",
       "    }\n",
       "\n",
       "    .dataframe tbody tr th {\n",
       "        vertical-align: top;\n",
       "    }\n",
       "\n",
       "    .dataframe thead th {\n",
       "        text-align: right;\n",
       "    }\n",
       "</style>\n",
       "<table border=\"1\" class=\"dataframe\">\n",
       "  <thead>\n",
       "    <tr style=\"text-align: right;\">\n",
       "      <th></th>\n",
       "      <th>initial_sal_</th>\n",
       "      <th>final_sal</th>\n",
       "      <th>mean_salary</th>\n",
       "      <th>period</th>\n",
       "      <th>period_cond</th>\n",
       "      <th>job</th>\n",
       "      <th>job_type</th>\n",
       "      <th>city</th>\n",
       "      <th>state</th>\n",
       "      <th>organization_</th>\n",
       "      <th>org_desc</th>\n",
       "      <th>sector_</th>\n",
       "      <th>sector_level</th>\n",
       "      <th>benefits</th>\n",
       "    </tr>\n",
       "    <tr>\n",
       "      <th>uniq_id</th>\n",
       "      <th></th>\n",
       "      <th></th>\n",
       "      <th></th>\n",
       "      <th></th>\n",
       "      <th></th>\n",
       "      <th></th>\n",
       "      <th></th>\n",
       "      <th></th>\n",
       "      <th></th>\n",
       "      <th></th>\n",
       "      <th></th>\n",
       "      <th></th>\n",
       "      <th></th>\n",
       "      <th></th>\n",
       "    </tr>\n",
       "  </thead>\n",
       "  <tbody>\n",
       "    <tr>\n",
       "      <th>b43c077756d5a326c4854e1399fd2464</th>\n",
       "      <td>900.0</td>\n",
       "      <td>1300.0</td>\n",
       "      <td>1100.0</td>\n",
       "      <td>hour</td>\n",
       "      <td>NaN</td>\n",
       "      <td>primrose private preschool teacher</td>\n",
       "      <td>full time</td>\n",
       "      <td>houston</td>\n",
       "      <td>tx 77098</td>\n",
       "      <td>Education</td>\n",
       "      <td>NaN</td>\n",
       "      <td>Entry</td>\n",
       "      <td>Level</td>\n",
       "      <td>NaN</td>\n",
       "    </tr>\n",
       "    <tr>\n",
       "      <th>d8491fcefe14d1398de419984dccf427</th>\n",
       "      <td>8000000.0</td>\n",
       "      <td>9500000.0</td>\n",
       "      <td>8750000.0</td>\n",
       "      <td>year</td>\n",
       "      <td>NaN</td>\n",
       "      <td>superintendent</td>\n",
       "      <td>full time</td>\n",
       "      <td>houston</td>\n",
       "      <td>tx</td>\n",
       "      <td>Construction</td>\n",
       "      <td>Industrial Facilities  InfrastructureConstru...</td>\n",
       "      <td>Building</td>\n",
       "      <td>Construction/Skilled Trades</td>\n",
       "      <td>NaN</td>\n",
       "    </tr>\n",
       "    <tr>\n",
       "      <th>779bb4c9bf038b7fb775134736d36fd4</th>\n",
       "      <td>7000000.0</td>\n",
       "      <td>10000000.0</td>\n",
       "      <td>8500000.0</td>\n",
       "      <td>year</td>\n",
       "      <td>NaN</td>\n",
       "      <td>sr. process engineer</td>\n",
       "      <td>full time</td>\n",
       "      <td>sr. process engineer</td>\n",
       "      <td>manufacturing</td>\n",
       "      <td>Chicago</td>\n",
       "      <td>IL</td>\n",
       "      <td>Engineering</td>\n",
       "      <td>NaN</td>\n",
       "      <td>NaN</td>\n",
       "    </tr>\n",
       "    <tr>\n",
       "      <th>ceb44cca7cd280adcb0c84c20f3c6c21</th>\n",
       "      <td>6800000.0</td>\n",
       "      <td>7200000.0</td>\n",
       "      <td>7000000.0</td>\n",
       "      <td>year</td>\n",
       "      <td>NaN</td>\n",
       "      <td>rf system technician</td>\n",
       "      <td>full time temporary</td>\n",
       "      <td>rf system technician</td>\n",
       "      <td>field service</td>\n",
       "      <td>Oklahoma</td>\n",
       "      <td>City  OK</td>\n",
       "      <td>Engineering</td>\n",
       "      <td>NaN</td>\n",
       "      <td>NaN</td>\n",
       "    </tr>\n",
       "    <tr>\n",
       "      <th>eea9b50afc4fece9f9d6ff0dbf659784</th>\n",
       "      <td>5800000.0</td>\n",
       "      <td>6500000.0</td>\n",
       "      <td>6150000.0</td>\n",
       "      <td>year</td>\n",
       "      <td>NaN</td>\n",
       "      <td>japanese and english speaking interpreter and ...</td>\n",
       "      <td>full time</td>\n",
       "      <td>charleston</td>\n",
       "      <td>wv</td>\n",
       "      <td>Manufacturing</td>\n",
       "      <td>Other</td>\n",
       "      <td>Experienced</td>\n",
       "      <td>(Non-Manager)</td>\n",
       "      <td>NaN</td>\n",
       "    </tr>\n",
       "  </tbody>\n",
       "</table>\n",
       "</div>"
      ],
      "text/plain": [
       "                                  initial_sal_   final_sal  mean_salary   \n",
       "uniq_id                                                                   \n",
       "b43c077756d5a326c4854e1399fd2464         900.0      1300.0       1100.0  \\\n",
       "d8491fcefe14d1398de419984dccf427     8000000.0   9500000.0    8750000.0   \n",
       "779bb4c9bf038b7fb775134736d36fd4     7000000.0  10000000.0    8500000.0   \n",
       "ceb44cca7cd280adcb0c84c20f3c6c21     6800000.0   7200000.0    7000000.0   \n",
       "eea9b50afc4fece9f9d6ff0dbf659784     5800000.0   6500000.0    6150000.0   \n",
       "\n",
       "                                 period period_cond   \n",
       "uniq_id                                               \n",
       "b43c077756d5a326c4854e1399fd2464   hour         NaN  \\\n",
       "d8491fcefe14d1398de419984dccf427   year         NaN   \n",
       "779bb4c9bf038b7fb775134736d36fd4   year         NaN   \n",
       "ceb44cca7cd280adcb0c84c20f3c6c21   year         NaN   \n",
       "eea9b50afc4fece9f9d6ff0dbf659784   year         NaN   \n",
       "\n",
       "                                                                                job   \n",
       "uniq_id                                                                               \n",
       "b43c077756d5a326c4854e1399fd2464                primrose private preschool teacher   \\\n",
       "d8491fcefe14d1398de419984dccf427                                    superintendent    \n",
       "779bb4c9bf038b7fb775134736d36fd4                               sr. process engineer   \n",
       "ceb44cca7cd280adcb0c84c20f3c6c21                               rf system technician   \n",
       "eea9b50afc4fece9f9d6ff0dbf659784  japanese and english speaking interpreter and ...   \n",
       "\n",
       "                                             job_type                  city   \n",
       "uniq_id                                                                       \n",
       "b43c077756d5a326c4854e1399fd2464            full time               houston  \\\n",
       "d8491fcefe14d1398de419984dccf427            full time               houston   \n",
       "779bb4c9bf038b7fb775134736d36fd4            full time  sr. process engineer   \n",
       "ceb44cca7cd280adcb0c84c20f3c6c21  full time temporary  rf system technician   \n",
       "eea9b50afc4fece9f9d6ff0dbf659784            full time            charleston   \n",
       "\n",
       "                                           state  organization_   \n",
       "uniq_id                                                           \n",
       "b43c077756d5a326c4854e1399fd2464        tx 77098      Education  \\\n",
       "d8491fcefe14d1398de419984dccf427              tx   Construction   \n",
       "779bb4c9bf038b7fb775134736d36fd4   manufacturing        Chicago   \n",
       "ceb44cca7cd280adcb0c84c20f3c6c21   field service       Oklahoma   \n",
       "eea9b50afc4fece9f9d6ff0dbf659784              wv  Manufacturing   \n",
       "\n",
       "                                                                           org_desc   \n",
       "uniq_id                                                                               \n",
       "b43c077756d5a326c4854e1399fd2464                                                NaN  \\\n",
       "d8491fcefe14d1398de419984dccf427    Industrial Facilities  InfrastructureConstru...   \n",
       "779bb4c9bf038b7fb775134736d36fd4                                                 IL   \n",
       "ceb44cca7cd280adcb0c84c20f3c6c21                                           City  OK   \n",
       "eea9b50afc4fece9f9d6ff0dbf659784                                              Other   \n",
       "\n",
       "                                      sector_                 sector_level   \n",
       "uniq_id                                                                      \n",
       "b43c077756d5a326c4854e1399fd2464        Entry                        Level  \\\n",
       "d8491fcefe14d1398de419984dccf427     Building  Construction/Skilled Trades   \n",
       "779bb4c9bf038b7fb775134736d36fd4  Engineering                          NaN   \n",
       "ceb44cca7cd280adcb0c84c20f3c6c21  Engineering                          NaN   \n",
       "eea9b50afc4fece9f9d6ff0dbf659784  Experienced                (Non-Manager)   \n",
       "\n",
       "                                 benefits  \n",
       "uniq_id                                    \n",
       "b43c077756d5a326c4854e1399fd2464      NaN  \n",
       "d8491fcefe14d1398de419984dccf427      NaN  \n",
       "779bb4c9bf038b7fb775134736d36fd4      NaN  \n",
       "ceb44cca7cd280adcb0c84c20f3c6c21      NaN  \n",
       "eea9b50afc4fece9f9d6ff0dbf659784      NaN  "
      ]
     },
     "execution_count": 446,
     "metadata": {},
     "output_type": "execute_result"
    }
   ],
   "source": [
    "df_data = df[df['mean_salary'] !=0]\n",
    "df_data.head(5)\n",
    "\n",
    "# We first chose the data with the mean salary diferent to cero, it means thereara a initial salary and an final salary an data in categorical variables\n",
    "# we hace 1665 rows and 15 columns"
   ]
  },
  {
   "cell_type": "code",
   "execution_count": 447,
   "metadata": {},
   "outputs": [
    {
     "data": {
      "text/plain": [
       "(1665, 14)"
      ]
     },
     "execution_count": 447,
     "metadata": {},
     "output_type": "execute_result"
    }
   ],
   "source": [
    "df_data.shape"
   ]
  },
  {
   "attachments": {},
   "cell_type": "markdown",
   "metadata": {},
   "source": [
    "#### Find median\n",
    "In order ot find the median we have to create clusters of the variables \"type_job\" an the \"period\" because is not the same the salary of a full time job, or hourly or weekly or per diem"
   ]
  },
  {
   "cell_type": "code",
   "execution_count": 448,
   "metadata": {},
   "outputs": [
    {
     "data": {
      "text/plain": [
       "initial_sal_        0\n",
       "final_sal           0\n",
       "mean_salary         0\n",
       "period            134\n",
       "period_cond      1370\n",
       "job                 0\n",
       "job_type            5\n",
       "city                0\n",
       "state              94\n",
       "organization_       0\n",
       "org_desc          163\n",
       "sector_             0\n",
       "sector_level      303\n",
       "benefits         1412\n",
       "dtype: int64"
      ]
     },
     "execution_count": 448,
     "metadata": {},
     "output_type": "execute_result"
    }
   ],
   "source": [
    "df_data.isnull().sum()\n",
    "# As we can see there are 134 nan values for period and 5 for job_type\n"
   ]
  },
  {
   "cell_type": "code",
   "execution_count": 449,
   "metadata": {},
   "outputs": [],
   "source": [
    "df_data = df_data.dropna(subset=['period', 'job_type'])"
   ]
  },
  {
   "cell_type": "code",
   "execution_count": 450,
   "metadata": {},
   "outputs": [
    {
     "data": {
      "text/plain": [
       "(1526, 14)"
      ]
     },
     "execution_count": 450,
     "metadata": {},
     "output_type": "execute_result"
    }
   ],
   "source": [
    "df_data.shape"
   ]
  },
  {
   "cell_type": "code",
   "execution_count": 451,
   "metadata": {},
   "outputs": [
    {
     "data": {
      "text/plain": [
       "initial_sal_        0\n",
       "final_sal           0\n",
       "mean_salary         0\n",
       "period              0\n",
       "period_cond      1232\n",
       "job                 0\n",
       "job_type            0\n",
       "city                0\n",
       "state              93\n",
       "organization_       0\n",
       "org_desc          151\n",
       "sector_             0\n",
       "sector_level      303\n",
       "benefits         1273\n",
       "dtype: int64"
      ]
     },
     "execution_count": 451,
     "metadata": {},
     "output_type": "execute_result"
    }
   ],
   "source": [
    "df_data.isnull().sum()"
   ]
  },
  {
   "cell_type": "code",
   "execution_count": 452,
   "metadata": {},
   "outputs": [
    {
     "data": {
      "text/plain": [
       "array(['hour', 'year', 'week', 'mont'], dtype=object)"
      ]
     },
     "execution_count": 452,
     "metadata": {},
     "output_type": "execute_result"
    }
   ],
   "source": [
    "df_data['period'].unique()\n",
    "# We identified the periods of tiem that will be clusteres"
   ]
  },
  {
   "cell_type": "code",
   "execution_count": 453,
   "metadata": {},
   "outputs": [
    {
     "data": {
      "text/plain": [
       "array(['full time', 'full time temporary', 'part time', 'temporary',\n",
       "       'per diem', 'part time temporary'], dtype=object)"
      ]
     },
     "execution_count": 453,
     "metadata": {},
     "output_type": "execute_result"
    }
   ],
   "source": [
    "df_data['job_type'].unique()\n",
    "# We identified the job_type that will be clusteres"
   ]
  },
  {
   "cell_type": "code",
   "execution_count": 454,
   "metadata": {},
   "outputs": [
    {
     "data": {
      "text/html": [
       "<div>\n",
       "<style scoped>\n",
       "    .dataframe tbody tr th:only-of-type {\n",
       "        vertical-align: middle;\n",
       "    }\n",
       "\n",
       "    .dataframe tbody tr th {\n",
       "        vertical-align: top;\n",
       "    }\n",
       "\n",
       "    .dataframe thead th {\n",
       "        text-align: right;\n",
       "    }\n",
       "</style>\n",
       "<table border=\"1\" class=\"dataframe\">\n",
       "  <thead>\n",
       "    <tr style=\"text-align: right;\">\n",
       "      <th></th>\n",
       "      <th>initial_sal_</th>\n",
       "      <th>final_sal</th>\n",
       "      <th>period</th>\n",
       "      <th>job_type</th>\n",
       "    </tr>\n",
       "    <tr>\n",
       "      <th>uniq_id</th>\n",
       "      <th></th>\n",
       "      <th></th>\n",
       "      <th></th>\n",
       "      <th></th>\n",
       "    </tr>\n",
       "  </thead>\n",
       "  <tbody>\n",
       "    <tr>\n",
       "      <th>b43c077756d5a326c4854e1399fd2464</th>\n",
       "      <td>900.0</td>\n",
       "      <td>1300.0</td>\n",
       "      <td>hour</td>\n",
       "      <td>full time</td>\n",
       "    </tr>\n",
       "    <tr>\n",
       "      <th>d8491fcefe14d1398de419984dccf427</th>\n",
       "      <td>8000000.0</td>\n",
       "      <td>9500000.0</td>\n",
       "      <td>year</td>\n",
       "      <td>full time</td>\n",
       "    </tr>\n",
       "    <tr>\n",
       "      <th>779bb4c9bf038b7fb775134736d36fd4</th>\n",
       "      <td>7000000.0</td>\n",
       "      <td>10000000.0</td>\n",
       "      <td>year</td>\n",
       "      <td>full time</td>\n",
       "    </tr>\n",
       "    <tr>\n",
       "      <th>ceb44cca7cd280adcb0c84c20f3c6c21</th>\n",
       "      <td>6800000.0</td>\n",
       "      <td>7200000.0</td>\n",
       "      <td>year</td>\n",
       "      <td>full time temporary</td>\n",
       "    </tr>\n",
       "    <tr>\n",
       "      <th>eea9b50afc4fece9f9d6ff0dbf659784</th>\n",
       "      <td>5800000.0</td>\n",
       "      <td>6500000.0</td>\n",
       "      <td>year</td>\n",
       "      <td>full time</td>\n",
       "    </tr>\n",
       "  </tbody>\n",
       "</table>\n",
       "</div>"
      ],
      "text/plain": [
       "                                  initial_sal_   final_sal period   \n",
       "uniq_id                                                             \n",
       "b43c077756d5a326c4854e1399fd2464         900.0      1300.0   hour  \\\n",
       "d8491fcefe14d1398de419984dccf427     8000000.0   9500000.0   year   \n",
       "779bb4c9bf038b7fb775134736d36fd4     7000000.0  10000000.0   year   \n",
       "ceb44cca7cd280adcb0c84c20f3c6c21     6800000.0   7200000.0   year   \n",
       "eea9b50afc4fece9f9d6ff0dbf659784     5800000.0   6500000.0   year   \n",
       "\n",
       "                                             job_type  \n",
       "uniq_id                                                \n",
       "b43c077756d5a326c4854e1399fd2464            full time  \n",
       "d8491fcefe14d1398de419984dccf427            full time  \n",
       "779bb4c9bf038b7fb775134736d36fd4            full time  \n",
       "ceb44cca7cd280adcb0c84c20f3c6c21  full time temporary  \n",
       "eea9b50afc4fece9f9d6ff0dbf659784            full time  "
      ]
     },
     "execution_count": 454,
     "metadata": {},
     "output_type": "execute_result"
    }
   ],
   "source": [
    "# Lets segregate the numeric data\n",
    "num_data_cluster = df_data[['initial_sal_','final_sal','period','job_type']]\n",
    "num_data_cluster.head(5)\n",
    "\n",
    "# I think it would be easier to concatenate period and job_type to simplify the clusters"
   ]
  },
  {
   "cell_type": "code",
   "execution_count": 455,
   "metadata": {},
   "outputs": [
    {
     "data": {
      "text/html": [
       "<div>\n",
       "<style scoped>\n",
       "    .dataframe tbody tr th:only-of-type {\n",
       "        vertical-align: middle;\n",
       "    }\n",
       "\n",
       "    .dataframe tbody tr th {\n",
       "        vertical-align: top;\n",
       "    }\n",
       "\n",
       "    .dataframe thead th {\n",
       "        text-align: right;\n",
       "    }\n",
       "</style>\n",
       "<table border=\"1\" class=\"dataframe\">\n",
       "  <thead>\n",
       "    <tr style=\"text-align: right;\">\n",
       "      <th></th>\n",
       "      <th>initial_sal_</th>\n",
       "      <th>final_sal</th>\n",
       "      <th>period</th>\n",
       "      <th>job_type</th>\n",
       "      <th>period_job</th>\n",
       "    </tr>\n",
       "    <tr>\n",
       "      <th>uniq_id</th>\n",
       "      <th></th>\n",
       "      <th></th>\n",
       "      <th></th>\n",
       "      <th></th>\n",
       "      <th></th>\n",
       "    </tr>\n",
       "  </thead>\n",
       "  <tbody>\n",
       "    <tr>\n",
       "      <th>b43c077756d5a326c4854e1399fd2464</th>\n",
       "      <td>900.0</td>\n",
       "      <td>1300.0</td>\n",
       "      <td>hour</td>\n",
       "      <td>full time</td>\n",
       "      <td></td>\n",
       "    </tr>\n",
       "    <tr>\n",
       "      <th>d8491fcefe14d1398de419984dccf427</th>\n",
       "      <td>8000000.0</td>\n",
       "      <td>9500000.0</td>\n",
       "      <td>year</td>\n",
       "      <td>full time</td>\n",
       "      <td></td>\n",
       "    </tr>\n",
       "    <tr>\n",
       "      <th>779bb4c9bf038b7fb775134736d36fd4</th>\n",
       "      <td>7000000.0</td>\n",
       "      <td>10000000.0</td>\n",
       "      <td>year</td>\n",
       "      <td>full time</td>\n",
       "      <td></td>\n",
       "    </tr>\n",
       "    <tr>\n",
       "      <th>ceb44cca7cd280adcb0c84c20f3c6c21</th>\n",
       "      <td>6800000.0</td>\n",
       "      <td>7200000.0</td>\n",
       "      <td>year</td>\n",
       "      <td>full time temporary</td>\n",
       "      <td></td>\n",
       "    </tr>\n",
       "    <tr>\n",
       "      <th>eea9b50afc4fece9f9d6ff0dbf659784</th>\n",
       "      <td>5800000.0</td>\n",
       "      <td>6500000.0</td>\n",
       "      <td>year</td>\n",
       "      <td>full time</td>\n",
       "      <td></td>\n",
       "    </tr>\n",
       "    <tr>\n",
       "      <th>...</th>\n",
       "      <td>...</td>\n",
       "      <td>...</td>\n",
       "      <td>...</td>\n",
       "      <td>...</td>\n",
       "      <td>...</td>\n",
       "    </tr>\n",
       "    <tr>\n",
       "      <th>4e2b0a3e9fe5f8721f6ab4692823d9a9</th>\n",
       "      <td>25000.0</td>\n",
       "      <td>0.0</td>\n",
       "      <td>week</td>\n",
       "      <td>full time</td>\n",
       "      <td></td>\n",
       "    </tr>\n",
       "    <tr>\n",
       "      <th>ac3c743eb7612d90bfe80a3a30d3d8be</th>\n",
       "      <td>5500000.0</td>\n",
       "      <td>6000000.0</td>\n",
       "      <td>year</td>\n",
       "      <td>full time</td>\n",
       "      <td></td>\n",
       "    </tr>\n",
       "    <tr>\n",
       "      <th>8e9f8638556bc1fd671bb99f4f01ac4d</th>\n",
       "      <td>7500000.0</td>\n",
       "      <td>8500000.0</td>\n",
       "      <td>year</td>\n",
       "      <td>full time</td>\n",
       "      <td></td>\n",
       "    </tr>\n",
       "    <tr>\n",
       "      <th>419a3714be2b30a10f628de207d041de</th>\n",
       "      <td>4500000.0</td>\n",
       "      <td>6000000.0</td>\n",
       "      <td>year</td>\n",
       "      <td>full time</td>\n",
       "      <td></td>\n",
       "    </tr>\n",
       "    <tr>\n",
       "      <th>40161cf61c283af9dc2b0a62947a5f1b</th>\n",
       "      <td>2500.0</td>\n",
       "      <td>2800.0</td>\n",
       "      <td>hour</td>\n",
       "      <td>full time</td>\n",
       "      <td></td>\n",
       "    </tr>\n",
       "  </tbody>\n",
       "</table>\n",
       "<p>1526 rows × 5 columns</p>\n",
       "</div>"
      ],
      "text/plain": [
       "                                  initial_sal_   final_sal period   \n",
       "uniq_id                                                             \n",
       "b43c077756d5a326c4854e1399fd2464         900.0      1300.0   hour  \\\n",
       "d8491fcefe14d1398de419984dccf427     8000000.0   9500000.0   year   \n",
       "779bb4c9bf038b7fb775134736d36fd4     7000000.0  10000000.0   year   \n",
       "ceb44cca7cd280adcb0c84c20f3c6c21     6800000.0   7200000.0   year   \n",
       "eea9b50afc4fece9f9d6ff0dbf659784     5800000.0   6500000.0   year   \n",
       "...                                        ...         ...    ...   \n",
       "4e2b0a3e9fe5f8721f6ab4692823d9a9       25000.0         0.0   week   \n",
       "ac3c743eb7612d90bfe80a3a30d3d8be     5500000.0   6000000.0   year   \n",
       "8e9f8638556bc1fd671bb99f4f01ac4d     7500000.0   8500000.0   year   \n",
       "419a3714be2b30a10f628de207d041de     4500000.0   6000000.0   year   \n",
       "40161cf61c283af9dc2b0a62947a5f1b        2500.0      2800.0   hour   \n",
       "\n",
       "                                             job_type period_job  \n",
       "uniq_id                                                           \n",
       "b43c077756d5a326c4854e1399fd2464            full time             \n",
       "d8491fcefe14d1398de419984dccf427            full time             \n",
       "779bb4c9bf038b7fb775134736d36fd4            full time             \n",
       "ceb44cca7cd280adcb0c84c20f3c6c21  full time temporary             \n",
       "eea9b50afc4fece9f9d6ff0dbf659784            full time             \n",
       "...                                               ...        ...  \n",
       "4e2b0a3e9fe5f8721f6ab4692823d9a9            full time             \n",
       "ac3c743eb7612d90bfe80a3a30d3d8be            full time             \n",
       "8e9f8638556bc1fd671bb99f4f01ac4d            full time             \n",
       "419a3714be2b30a10f628de207d041de            full time             \n",
       "40161cf61c283af9dc2b0a62947a5f1b            full time             \n",
       "\n",
       "[1526 rows x 5 columns]"
      ]
     },
     "execution_count": 455,
     "metadata": {},
     "output_type": "execute_result"
    }
   ],
   "source": [
    "num_data_cluster_ =num_data_cluster.copy()\n",
    "\n",
    "num_data_cluster_.loc[:,'period_job'] = \"\"\n",
    "\n",
    "num_data_cluster_"
   ]
  },
  {
   "cell_type": "code",
   "execution_count": 456,
   "metadata": {},
   "outputs": [
    {
     "data": {
      "text/html": [
       "<div>\n",
       "<style scoped>\n",
       "    .dataframe tbody tr th:only-of-type {\n",
       "        vertical-align: middle;\n",
       "    }\n",
       "\n",
       "    .dataframe tbody tr th {\n",
       "        vertical-align: top;\n",
       "    }\n",
       "\n",
       "    .dataframe thead th {\n",
       "        text-align: right;\n",
       "    }\n",
       "</style>\n",
       "<table border=\"1\" class=\"dataframe\">\n",
       "  <thead>\n",
       "    <tr style=\"text-align: right;\">\n",
       "      <th></th>\n",
       "      <th>initial_sal_</th>\n",
       "      <th>final_sal</th>\n",
       "      <th>period_job</th>\n",
       "    </tr>\n",
       "    <tr>\n",
       "      <th>uniq_id</th>\n",
       "      <th></th>\n",
       "      <th></th>\n",
       "      <th></th>\n",
       "    </tr>\n",
       "  </thead>\n",
       "  <tbody>\n",
       "    <tr>\n",
       "      <th>b43c077756d5a326c4854e1399fd2464</th>\n",
       "      <td>900.0</td>\n",
       "      <td>1300.0</td>\n",
       "      <td>hour_full_time</td>\n",
       "    </tr>\n",
       "    <tr>\n",
       "      <th>d8491fcefe14d1398de419984dccf427</th>\n",
       "      <td>8000000.0</td>\n",
       "      <td>9500000.0</td>\n",
       "      <td>year_full_time</td>\n",
       "    </tr>\n",
       "    <tr>\n",
       "      <th>779bb4c9bf038b7fb775134736d36fd4</th>\n",
       "      <td>7000000.0</td>\n",
       "      <td>10000000.0</td>\n",
       "      <td>year_full_time</td>\n",
       "    </tr>\n",
       "    <tr>\n",
       "      <th>ceb44cca7cd280adcb0c84c20f3c6c21</th>\n",
       "      <td>6800000.0</td>\n",
       "      <td>7200000.0</td>\n",
       "      <td>year_full_time_temporary</td>\n",
       "    </tr>\n",
       "    <tr>\n",
       "      <th>eea9b50afc4fece9f9d6ff0dbf659784</th>\n",
       "      <td>5800000.0</td>\n",
       "      <td>6500000.0</td>\n",
       "      <td>year_full_time</td>\n",
       "    </tr>\n",
       "    <tr>\n",
       "      <th>...</th>\n",
       "      <td>...</td>\n",
       "      <td>...</td>\n",
       "      <td>...</td>\n",
       "    </tr>\n",
       "    <tr>\n",
       "      <th>4e2b0a3e9fe5f8721f6ab4692823d9a9</th>\n",
       "      <td>25000.0</td>\n",
       "      <td>0.0</td>\n",
       "      <td>week_full_time</td>\n",
       "    </tr>\n",
       "    <tr>\n",
       "      <th>ac3c743eb7612d90bfe80a3a30d3d8be</th>\n",
       "      <td>5500000.0</td>\n",
       "      <td>6000000.0</td>\n",
       "      <td>year_full_time</td>\n",
       "    </tr>\n",
       "    <tr>\n",
       "      <th>8e9f8638556bc1fd671bb99f4f01ac4d</th>\n",
       "      <td>7500000.0</td>\n",
       "      <td>8500000.0</td>\n",
       "      <td>year_full_time</td>\n",
       "    </tr>\n",
       "    <tr>\n",
       "      <th>419a3714be2b30a10f628de207d041de</th>\n",
       "      <td>4500000.0</td>\n",
       "      <td>6000000.0</td>\n",
       "      <td>year_full_time</td>\n",
       "    </tr>\n",
       "    <tr>\n",
       "      <th>40161cf61c283af9dc2b0a62947a5f1b</th>\n",
       "      <td>2500.0</td>\n",
       "      <td>2800.0</td>\n",
       "      <td>hour_full_time</td>\n",
       "    </tr>\n",
       "  </tbody>\n",
       "</table>\n",
       "<p>1526 rows × 3 columns</p>\n",
       "</div>"
      ],
      "text/plain": [
       "                                  initial_sal_   final_sal   \n",
       "uniq_id                                                      \n",
       "b43c077756d5a326c4854e1399fd2464         900.0      1300.0  \\\n",
       "d8491fcefe14d1398de419984dccf427     8000000.0   9500000.0   \n",
       "779bb4c9bf038b7fb775134736d36fd4     7000000.0  10000000.0   \n",
       "ceb44cca7cd280adcb0c84c20f3c6c21     6800000.0   7200000.0   \n",
       "eea9b50afc4fece9f9d6ff0dbf659784     5800000.0   6500000.0   \n",
       "...                                        ...         ...   \n",
       "4e2b0a3e9fe5f8721f6ab4692823d9a9       25000.0         0.0   \n",
       "ac3c743eb7612d90bfe80a3a30d3d8be     5500000.0   6000000.0   \n",
       "8e9f8638556bc1fd671bb99f4f01ac4d     7500000.0   8500000.0   \n",
       "419a3714be2b30a10f628de207d041de     4500000.0   6000000.0   \n",
       "40161cf61c283af9dc2b0a62947a5f1b        2500.0      2800.0   \n",
       "\n",
       "                                                period_job  \n",
       "uniq_id                                                     \n",
       "b43c077756d5a326c4854e1399fd2464            hour_full_time  \n",
       "d8491fcefe14d1398de419984dccf427            year_full_time  \n",
       "779bb4c9bf038b7fb775134736d36fd4            year_full_time  \n",
       "ceb44cca7cd280adcb0c84c20f3c6c21  year_full_time_temporary  \n",
       "eea9b50afc4fece9f9d6ff0dbf659784            year_full_time  \n",
       "...                                                    ...  \n",
       "4e2b0a3e9fe5f8721f6ab4692823d9a9            week_full_time  \n",
       "ac3c743eb7612d90bfe80a3a30d3d8be            year_full_time  \n",
       "8e9f8638556bc1fd671bb99f4f01ac4d            year_full_time  \n",
       "419a3714be2b30a10f628de207d041de            year_full_time  \n",
       "40161cf61c283af9dc2b0a62947a5f1b            hour_full_time  \n",
       "\n",
       "[1526 rows x 3 columns]"
      ]
     },
     "execution_count": 456,
     "metadata": {},
     "output_type": "execute_result"
    }
   ],
   "source": [
    "\n",
    "num_data_cluster_['period_job'] =  num_data_cluster_['period']+' '+num_data_cluster_['job_type']\n",
    "num_data_cluster_ = num_data_cluster_.drop(['period','job_type'], axis=1)\n",
    "num_data_cluster_['period_job'] = num_data_cluster_['period_job'].replace(' ', '_', regex=True)\n",
    "num_data_cluster_"
   ]
  },
  {
   "cell_type": "code",
   "execution_count": 457,
   "metadata": {},
   "outputs": [],
   "source": [
    "#num_data_cluster_[[\t'initial_sal_'\t,'final_sal']] = num_data_cluster_[[\t'initial_sal_'\t,'final_sal']].astype(int)\n",
    "#num_data_cluster_.dtypes"
   ]
  },
  {
   "cell_type": "code",
   "execution_count": 458,
   "metadata": {},
   "outputs": [
    {
     "data": {
      "text/plain": [
       "array(['hour_full_time', 'year_full_time', 'year_full_time_temporary',\n",
       "       'hour_part_time', 'hour_full_time_temporary', 'week_full_time',\n",
       "       'hour_temporary', 'hour_per_diem', 'mont_full_time',\n",
       "       'hour_part_time_temporary', 'mont_part_time', 'year_part_time'],\n",
       "      dtype=object)"
      ]
     },
     "execution_count": 458,
     "metadata": {},
     "output_type": "execute_result"
    }
   ],
   "source": [
    "list_period_job = num_data_cluster_['period_job'].unique()\n",
    "list_period_job\n",
    "#No we do have a list of the variables to create the clusters to examine data"
   ]
  },
  {
   "cell_type": "code",
   "execution_count": 459,
   "metadata": {},
   "outputs": [
    {
     "name": "stdout",
     "output_type": "stream",
     "text": [
      "{'hour_full_time':                                   initial_sal_  final_sal      period_job\n",
      "uniq_id                                                                  \n",
      "b43c077756d5a326c4854e1399fd2464         900.0     1300.0  hour_full_time\n",
      "3c2f7c555173e04db07a96b23c1be974        1375.0     1675.0  hour_full_time\n",
      "f884de2958f94e4ad417aefcacd350c7        1700.0     2200.0  hour_full_time\n",
      "776bd5c4c2412714ed9f1ac098470aac        1500.0     1900.0  hour_full_time\n",
      "64a597e5dd17740aadf4b0e8047b51a5        1500.0     2100.0  hour_full_time\n",
      "...                                        ...        ...             ...\n",
      "5310eafc4a142affdd10ab50de2c1cca        1500.0     1800.0  hour_full_time\n",
      "b5838e6822ee1ffd9174d41ba9ae7b9b        1400.0     1600.0  hour_full_time\n",
      "4a65f0199487728cc762abd524237360        1175.0     1275.0  hour_full_time\n",
      "292810c8b37005b3b49f84c790110594        2325.0     2521.0  hour_full_time\n",
      "40161cf61c283af9dc2b0a62947a5f1b        2500.0     2800.0  hour_full_time\n",
      "\n",
      "[439 rows x 3 columns], 'year_full_time':                                   initial_sal_   final_sal      period_job\n",
      "uniq_id                                                                   \n",
      "d8491fcefe14d1398de419984dccf427     8000000.0   9500000.0  year_full_time\n",
      "779bb4c9bf038b7fb775134736d36fd4     7000000.0  10000000.0  year_full_time\n",
      "eea9b50afc4fece9f9d6ff0dbf659784     5800000.0   6500000.0  year_full_time\n",
      "f15dfb5ad12ddb6acb8a26eb04f2220f     4500000.0  10000000.0  year_full_time\n",
      "ea722c991c6d3816965702948e320cb6     4000000.0   5000000.0  year_full_time\n",
      "...                                        ...         ...             ...\n",
      "d945dcb0eb8a365fd4ce03833e919af0     7000000.0   7500000.0  year_full_time\n",
      "d8d1215d852cfbd07040ad11a8bc2f56     2700000.0   2900000.0  year_full_time\n",
      "ac3c743eb7612d90bfe80a3a30d3d8be     5500000.0   6000000.0  year_full_time\n",
      "8e9f8638556bc1fd671bb99f4f01ac4d     7500000.0   8500000.0  year_full_time\n",
      "419a3714be2b30a10f628de207d041de     4500000.0   6000000.0  year_full_time\n",
      "\n",
      "[943 rows x 3 columns], 'year_full_time_temporary':                                   initial_sal_   final_sal   \n",
      "uniq_id                                                      \n",
      "ceb44cca7cd280adcb0c84c20f3c6c21     6800000.0   7200000.0  \\\n",
      "52aa858cce38928290a0db075199ce2e     9500000.0  12500000.0   \n",
      "5e7cafde9b560c585dabfca79fae4399     9500000.0  12500000.0   \n",
      "5571229d243a5de10b4ae3b467dd0ed6     9500000.0  12500000.0   \n",
      "\n",
      "                                                period_job  \n",
      "uniq_id                                                     \n",
      "ceb44cca7cd280adcb0c84c20f3c6c21  year_full_time_temporary  \n",
      "52aa858cce38928290a0db075199ce2e  year_full_time_temporary  \n",
      "5e7cafde9b560c585dabfca79fae4399  year_full_time_temporary  \n",
      "5571229d243a5de10b4ae3b467dd0ed6  year_full_time_temporary  , 'hour_part_time':                                   initial_sal_  final_sal      period_job\n",
      "uniq_id                                                                  \n",
      "c8d4793a041484771cca9c30491ac025        4500.0     5000.0  hour_part_time\n",
      "3fc8b25974e8f82b8addbad938b546a1        1200.0     1400.0  hour_part_time\n",
      "aa6374fb5d6e869625fe80d33b4511f7        1400.0     1400.0  hour_part_time\n",
      "9c9816bd0d9fa598abae92fd2583e8e1        1345.0     1345.0  hour_part_time\n",
      "a75c411423819caaf383bb84cef9f41b        1200.0     1500.0  hour_part_time\n",
      "bc4635c29a331d26eef0759903a3d700        1400.0     1400.0  hour_part_time\n",
      "d5af70c0541a05cc173241aa576a0344        1500.0     2190.0  hour_part_time\n",
      "9e2c060f714020de810d4958910eaf32        2000.0     2200.0  hour_part_time\n",
      "7fc597645b39c7f0c18a32be7c6708fe        1200.0     1600.0  hour_part_time\n",
      "d50695c640d58d9f1675fbbe81c64b2f        2000.0     2500.0  hour_part_time\n",
      "7a1b70c94304c75124006536c7f4f918        1200.0     1500.0  hour_part_time\n",
      "3cddef98e0d27432560b167850f0156e        1632.0     1837.0  hour_part_time\n",
      "14dbc6275792622846697000f3997d94        1400.0     1800.0  hour_part_time\n",
      "884a6916e3942093dcbb8fd4b49078ec        1000.0     1300.0  hour_part_time\n",
      "ebb5baa437b646a10ee0def5afa06960         605.0     1225.0  hour_part_time\n",
      "32a80eb646097fd7fd522010075e64b6        1075.0     1075.0  hour_part_time\n",
      "4c36565999f730dec706428622c32875        1422.0     1636.0  hour_part_time\n",
      "219770fe05b9015bf8e676926a64dca3        3200.0     3500.0  hour_part_time\n",
      "d10be37428a0f8592dffc50ecf1a02d9        1200.0        0.0  hour_part_time\n",
      "fd793c77c0fe43feebe9145e3757d9bd        1200.0     1600.0  hour_part_time\n",
      "608c1cf2b4de2717f044cb53a7b6500d        3500.0     3800.0  hour_part_time\n",
      "fc9b2b9b8d80a774df1d7528ac9f710e        1075.0     1175.0  hour_part_time\n",
      "e5a8e5d4bfa4d0996133592518f97890        5000.0     7500.0  hour_part_time\n",
      "2fa90f0725fcea2e2e1bd2ade8918d81         800.0     1000.0  hour_part_time\n",
      "c5aa1f0739b63f61b9ba84337c0ae0fc        1400.0     1400.0  hour_part_time\n",
      "7ac5a17c8c259c082f29d44fd055b005        2000.0     2500.0  hour_part_time\n",
      "582fba6fc156f7974d9e8c6d9be161d9        2500.0     3000.0  hour_part_time\n",
      "c1612d69a4b92b585b6de561ec70ab68        1200.0     1500.0  hour_part_time\n",
      "fe1085c6a34bcc647c36e3d7076326ac        1200.0     1300.0  hour_part_time\n",
      "993d2aa48a03c746be0312cab21e6334        1300.0     2000.0  hour_part_time\n",
      "b2bcd66f8ee6433fb8d97fa19fe06680        1700.0     2200.0  hour_part_time\n",
      "b63e2d23fd53b8e9ad4503a1edead271        2000.0     2500.0  hour_part_time\n",
      "8592a3c92916496f39d1e0daa0ec6609        1900.0     2100.0  hour_part_time\n",
      "f553df393a9dd94189b36464b799c493         850.0      900.0  hour_part_time\n",
      "8560c068c5707dd172caaaa69e48c4c0         850.0     1000.0  hour_part_time\n",
      "89447ea56aa0aa73c388f8dd5a2d04b2        2800.0     3000.0  hour_part_time\n",
      "f02ef5fc220748b00e7e0cab5bfe0bd2         800.0     1000.0  hour_part_time\n",
      "8b577c47fe5211a5cc1196e2806918db         900.0     1000.0  hour_part_time\n",
      "45d9f38cea057534885ed5d5dfc87a54        1200.0     4000.0  hour_part_time\n",
      "0bbd6a5710de91951e6fc29e833d0304        2000.0     2200.0  hour_part_time\n",
      "29346bfdd9ae2f521d29d24c3f362e99        1275.0     1564.0  hour_part_time\n",
      "0fab2d4d7ded5801843ea45a971b0529           0.0     1000.0  hour_part_time, 'hour_full_time_temporary':                                   initial_sal_  final_sal   \n",
      "uniq_id                                                     \n",
      "859885199d1b86a887808f52d0f863af        1700.0     1700.0  \\\n",
      "a4a3dfc9f983a311aaebf2a3a0b6a434        5500.0     6500.0   \n",
      "5c9db47b9e72997c30378ae4ef383e58        5500.0     6500.0   \n",
      "877bf957fdc9153fea0d587ad410715f        3500.0     5000.0   \n",
      "302fa0038e04a0c6bf75d3b8f4919c36       10000.0    12000.0   \n",
      "...                                        ...        ...   \n",
      "a41f8111a88385034aa93ffea9ca1fbc           0.0     1400.0   \n",
      "769c9a65d35d44534c4f0e8cb4c9c17e           0.0     1400.0   \n",
      "9e3464d2f89542adebdaa8f5d8ce0035        1500.0     1500.0   \n",
      "c876ff37115f4056791377ea7166d900        1988.0     1988.0   \n",
      "5a93ce6b005a49bed83970446ee44f83        3500.0     3500.0   \n",
      "\n",
      "                                                period_job  \n",
      "uniq_id                                                     \n",
      "859885199d1b86a887808f52d0f863af  hour_full_time_temporary  \n",
      "a4a3dfc9f983a311aaebf2a3a0b6a434  hour_full_time_temporary  \n",
      "5c9db47b9e72997c30378ae4ef383e58  hour_full_time_temporary  \n",
      "877bf957fdc9153fea0d587ad410715f  hour_full_time_temporary  \n",
      "302fa0038e04a0c6bf75d3b8f4919c36  hour_full_time_temporary  \n",
      "...                                                    ...  \n",
      "a41f8111a88385034aa93ffea9ca1fbc  hour_full_time_temporary  \n",
      "769c9a65d35d44534c4f0e8cb4c9c17e  hour_full_time_temporary  \n",
      "9e3464d2f89542adebdaa8f5d8ce0035  hour_full_time_temporary  \n",
      "c876ff37115f4056791377ea7166d900  hour_full_time_temporary  \n",
      "5a93ce6b005a49bed83970446ee44f83  hour_full_time_temporary  \n",
      "\n",
      "[77 rows x 3 columns], 'week_full_time':                                   initial_sal_  final_sal      period_job\n",
      "uniq_id                                                                  \n",
      "3650fa1e3d9d124e3045f1b57ad46eaf      110000.0        0.0  week_full_time\n",
      "d3382296e9770bcf73d7f2629b232be9       60000.0    80000.0  week_full_time\n",
      "7743c51c503450ed14cfefd81c5a5426       60000.0    80000.0  week_full_time\n",
      "76052f4880499987773947110a1d65d3        1200.0     1200.0  week_full_time\n",
      "4e2b0a3e9fe5f8721f6ab4692823d9a9       25000.0        0.0  week_full_time, 'hour_temporary':                                   initial_sal_  final_sal      period_job\n",
      "uniq_id                                                                  \n",
      "26512fdea3e6a1707f019e36f4994d0c        2500.0     3500.0  hour_temporary\n",
      "3025426dd87635789cd964ada5c6ac8b        3000.0     3500.0  hour_temporary\n",
      "163b1b46e68f6cd64dc9a2b559a2c09b        2500.0     3500.0  hour_temporary\n",
      "11d14b6e274b2b6ea15884f53b44770c        2500.0     3500.0  hour_temporary\n",
      "7505148e9f98a8fb2592528ab397ce4d        2500.0     3500.0  hour_temporary\n",
      "a407ccb6353b3313e28633e8edca5f51        2500.0     3500.0  hour_temporary, 'hour_per_diem':                                   initial_sal_  final_sal     period_job\n",
      "uniq_id                                                                 \n",
      "55baa3d2c4e38044f8c8a9690c5b9d1c        2600.0     3200.0  hour_per_diem\n",
      "1045c14df98cb3dab000ba285885a98d        1100.0     1300.0  hour_per_diem, 'mont_full_time':                                   initial_sal_  final_sal      period_job\n",
      "uniq_id                                                                  \n",
      "76a1ccc44f70a3c3ec07253ebf66552b      436239.0   544557.0  mont_full_time\n",
      "dbbf8b613436432f186df75f582f166a      588293.0   788320.0  mont_full_time\n",
      "c4ca2a4321b9095fe81a64e397559d03      640100.0   793500.0  mont_full_time\n",
      "bbfea4764b5da08f213fffb540365ede      490000.0   612500.0  mont_full_time, 'hour_part_time_temporary':                                   initial_sal_  final_sal   \n",
      "uniq_id                                                     \n",
      "5eaae0af06f434b723386a15c9e2d7a9        1200.0     1300.0  \\\n",
      "\n",
      "                                                period_job  \n",
      "uniq_id                                                     \n",
      "5eaae0af06f434b723386a15c9e2d7a9  hour_part_time_temporary  , 'mont_part_time':                                   initial_sal_  final_sal      period_job\n",
      "uniq_id                                                                  \n",
      "4a287bddd05b2acbf65f4c01da6260eb      600000.0  1000000.0  mont_part_time, 'year_part_time':                                   initial_sal_   final_sal      period_job\n",
      "uniq_id                                                                   \n",
      "41bf62e299f8d9a6fd0f6866830bb88d     9823920.0  16207040.0  year_part_time\n",
      "5875d29cf75530b5300772bf62a01adf     1850000.0         0.0  year_part_time}\n"
     ]
    }
   ],
   "source": [
    "d={}\n",
    "for  i  in list_period_job:\n",
    "    d[i]= num_data_cluster_[num_data_cluster_['period_job'].isin([i])]\n",
    "   \n",
    "print(d)\n",
    "\n",
    "# Lets use a dictionary to separate each cluster that later will be a dataframe with its own period_job\n",
    "# There are diferent ways to do this like create a dateframe with a conditional of the value of the variable \"period_job\" but lets have fun this way"
   ]
  },
  {
   "cell_type": "code",
   "execution_count": 460,
   "metadata": {},
   "outputs": [],
   "source": [
    "def create_Dataframes(d, dict_dataframes):\n",
    "    return d.get(dict_dataframes)\n",
    "    \n",
    "\n",
    "hour_full_time              =  create_Dataframes(d,list_period_job[0])\n",
    "year_full_time              =  create_Dataframes(d,list_period_job[1])\n",
    "year_full_time_temporary    =  create_Dataframes(d,list_period_job[2])\n",
    "hour_part_time              =  create_Dataframes(d,list_period_job[3])\n",
    "hour_full_time_temporary    =  create_Dataframes(d,list_period_job[4])\n",
    "week_full_time              =  create_Dataframes(d,list_period_job[5])\n",
    "hour_temporary              =  create_Dataframes(d,list_period_job[6])\n",
    "hour_per_diem               =  create_Dataframes(d,list_period_job[7])\n",
    "mont_full_time              =  create_Dataframes(d,list_period_job[8])\n",
    "hour_part_time_temporary    =  create_Dataframes(d,list_period_job[9])\n",
    "mont_part_time              =  create_Dataframes(d,list_period_job[10])\n",
    "year_part_time              =  create_Dataframes(d,list_period_job[11])\n",
    "\n",
    "# Finaly in this fucntion we extract each \"period_job\" so we can create some visualizations for each one\n"
   ]
  },
  {
   "cell_type": "code",
   "execution_count": 461,
   "metadata": {},
   "outputs": [],
   "source": [
    "import matplotlib.pyplot as plt\n",
    "import seaborn as sns"
   ]
  },
  {
   "attachments": {},
   "cell_type": "markdown",
   "metadata": {},
   "source": [
    "### box-plot for the skewed feature"
   ]
  },
  {
   "cell_type": "code",
   "execution_count": 462,
   "metadata": {},
   "outputs": [
    {
     "data": {
      "image/png": "[encoded data removed]",
      "text/plain": [
       "<Figure size 1080x1080 with 12 Axes>"
      ]
     },
     "metadata": {
      "needs_background": "light"
     },
     "output_type": "display_data"
    }
   ],
   "source": [
    "plt.rcParams[\"figure.figsize\"] = [15,15]\n",
    "plt.rcParams[\"figure.autolayout\"] = True\n",
    "\n",
    "\n",
    "fig, axs = plt.subplots(4,3)\n",
    "\n",
    "\n",
    "labels=['initial_sal_','final_sal']\n",
    "boxprops = dict(facecolor = \"lightblue\")\n",
    "flierprops = dict(marker = \"s\", markerfacecolor = \"red\")\n",
    "\n",
    "\n",
    "axs[0, 0].boxplot(hour_full_time[labels], flierprops = flierprops, showmeans = True, meanline = True , patch_artist = True,boxprops = boxprops, labels=labels)\n",
    "axs[0, 0].set_title('hour_full_time')\n",
    "axs[0, 0].yaxis.grid(True)\n",
    "\n",
    "axs[0, 1].boxplot(year_full_time[labels], flierprops = flierprops,showmeans = True, meanline = True ,patch_artist = True, boxprops = boxprops , labels=labels)\n",
    "axs[0, 1].set_title('year_full_time')\n",
    "axs[0, 1].yaxis.grid(True)\n",
    "\n",
    "axs[0, 2].boxplot(year_full_time_temporary[labels], flierprops = flierprops, showmeans = True, meanline = True , patch_artist = True,boxprops = boxprops, labels=labels)\n",
    "axs[0, 2].set_title('year_full_time_temporary')\n",
    "axs[0, 2].yaxis.grid(True)\n",
    "\n",
    "axs[1, 0].boxplot(hour_part_time[labels], flierprops = flierprops,showmeans = True, meanline = True ,patch_artist = True, boxprops = boxprops , labels=labels)\n",
    "axs[1, 0].set_title('hour_part_time')\n",
    "axs[1, 0].yaxis.grid(True)\n",
    "\n",
    "axs[1, 1].boxplot(hour_full_time_temporary[labels], flierprops = flierprops, showmeans = True, meanline = True , patch_artist = True,boxprops = boxprops, labels=labels)\n",
    "axs[1, 1].set_title('hour_full_time_temporary')\n",
    "axs[1, 1].yaxis.grid(True)\n",
    "\n",
    "axs[1, 2].boxplot(week_full_time[labels], flierprops = flierprops,showmeans = True, meanline = True ,patch_artist = True, boxprops = boxprops , labels=labels)\n",
    "axs[1, 2].set_title('week_full_time')\n",
    "axs[1, 2].yaxis.grid(True)\n",
    "\n",
    "axs[2, 0].boxplot(hour_temporary[labels], flierprops = flierprops, showmeans = True, meanline = True , patch_artist = True,boxprops = boxprops, labels=labels)\n",
    "axs[2, 0].set_title('hour_temporary')\n",
    "axs[2, 0].yaxis.grid(True)\n",
    "\n",
    "axs[2, 1].boxplot(hour_per_diem[labels], flierprops = flierprops,showmeans = True, meanline = True ,patch_artist = True, boxprops = boxprops , labels=labels)\n",
    "axs[2, 1].set_title('hour_per_diem')\n",
    "axs[2, 1].yaxis.grid(True)\n",
    "\n",
    "axs[2, 2].boxplot(mont_full_time[labels], flierprops = flierprops, showmeans = True, meanline = True , patch_artist = True,boxprops = boxprops, labels=labels)\n",
    "axs[2, 2].set_title('mont_full_time')\n",
    "axs[2, 2].yaxis.grid(True)\n",
    "\n",
    "axs[3, 0].boxplot(hour_part_time_temporary[labels], flierprops = flierprops,showmeans = True, meanline = True ,patch_artist = True, boxprops = boxprops , labels=labels)\n",
    "axs[3, 0].set_title('hour_part_time_temporary')\n",
    "axs[3, 0].yaxis.grid(True)\n",
    "\n",
    "axs[3, 1].boxplot(mont_part_time[labels], flierprops = flierprops, showmeans = True, meanline = True , patch_artist = True,boxprops = boxprops, labels=labels)\n",
    "axs[3, 1].set_title('mont_part_time')\n",
    "axs[3, 1].yaxis.grid(True)\n",
    "\n",
    "axs[3, 2].boxplot(year_part_time[labels], flierprops = flierprops,showmeans = True, meanline = True ,patch_artist = True, boxprops = boxprops , labels=labels)\n",
    "axs[3, 2].set_title('year_part_time')\n",
    "axs[3, 2].yaxis.grid(True)\n",
    "\n",
    "\n",
    "plt.show()\n",
    "\n",
    "# What we can see hear is that the outliers are mostly in one of the sides of the boxplot , in seems that in this case above the maximun value of the salariees\n",
    "# But not for every cluster junt for some of them, those which have no aoutliers will not be processed\n",
    "\n",
    "#hour_full_time (skew)\n",
    "#year_full_time (skew)\n",
    "#year_full_time_temporary (skew) (under minimun)\n",
    "#hour_part_time (skew)\n",
    "#hour_full_time_temporary (skew)\n",
    "\n"
   ]
  },
  {
   "attachments": {},
   "cell_type": "markdown",
   "metadata": {},
   "source": [
    "## Eliminate outliers\n",
    "#### As we can see there are some clusters that have outliers too far from the media and this kind of behaviour affects our capacity to create a real measurement or define a tendency, thats why we have to elimitate them"
   ]
  },
  {
   "attachments": {},
   "cell_type": "markdown",
   "metadata": {},
   "source": [
    "### hour_full_time"
   ]
  },
  {
   "attachments": {},
   "cell_type": "markdown",
   "metadata": {},
   "source": [
    "### IQR Based Filtering\n",
    "####Used when our data distribution is skewed.\n",
    "\n",
    "For Skewed Distributions\n",
    "Use Inter-Quartile Range (IQR) proximity rule.\n",
    "The data points that fall below Q1 – 1.5 IQR or above the third quartile Q3 + 1.5 IQR are outliers, where Q1 and Q3 are the 25th and 75th percentile of the dataset, respectively. IQR represents the inter-quartile range and is given by Q3 – Q1.\n",
    "\n",
    "This clusters are skewed mostly above maximun so lets filter them\n",
    "- hour_full_time\n",
    "- year_full_time\n",
    "- year_full_time_temporary (under minimun)\n",
    "- hour_part_time\n",
    "- hour_full_time_temporary"
   ]
  },
  {
   "cell_type": "code",
   "execution_count": 480,
   "metadata": {},
   "outputs": [
    {
     "data": {
      "image/png": "[encoded data removed]",
      "text/plain": [
       "<Figure size 1152x576 with 2 Axes>"
      ]
     },
     "metadata": {
      "needs_background": "light"
     },
     "output_type": "display_data"
    }
   ],
   "source": [
    "import warnings\n",
    "warnings.filterwarnings('ignore')\n",
    "plt.figure(figsize=(16,8))\n",
    "\n",
    "plt.subplot(2,2,1)\n",
    "sns.distplot(year_full_time['initial_sal_'] )\n",
    "plt.subplot(2,2,2)\n",
    "sns.boxplot(year_full_time['initial_sal_'] )\n",
    "plt.show()"
   ]
  },
  {
   "cell_type": "code",
   "execution_count": 465,
   "metadata": {},
   "outputs": [
    {
     "data": {
      "text/plain": [
       "('hour_full_time',\n",
       " 'year_full_time',\n",
       " 'year_full_time_temporary',\n",
       " 'hour_part_time',\n",
       " 'hour_full_time_temporary')"
      ]
     },
     "execution_count": 465,
     "metadata": {},
     "output_type": "execute_result"
    }
   ],
   "source": [
    "list_skewed = ('hour_full_time' , 'year_full_time','year_full_time_temporary', 'hour_part_time','hour_full_time_temporary')\n",
    "list_skewed"
   ]
  },
  {
   "cell_type": "code",
   "execution_count": 466,
   "metadata": {},
   "outputs": [
    {
     "name": "stdout",
     "output_type": "stream",
     "text": [
      "max:   3100.0\n",
      "min:   0.0\n"
     ]
    }
   ],
   "source": [
    "print('max:  ',max(new_hour_full_time['initial_sal_']))\n",
    "print('min:  ',min(new_hour_full_time['initial_sal_']))"
   ]
  },
  {
   "cell_type": "code",
   "execution_count": 475,
   "metadata": {},
   "outputs": [
    {
     "name": "stdout",
     "output_type": "stream",
     "text": [
      "(12183375.0, -1230025.0)\n"
     ]
    }
   ],
   "source": [
    "# Finding the percentils\n",
    "def percentil(cluster):\n",
    "    return cluster.quantile(0.75), cluster.quantile(0.25)\n",
    "   \n",
    "hour_full_time_75_25            = percentil(hour_full_time['initial_sal_'])\n",
    "year_full_time_75_25            = percentil(year_full_time['initial_sal_'])\n",
    "year_full_time_temporary_75_25  = percentil(year_full_time_temporary['initial_sal_'])\n",
    "hour_part_time_75_25            = percentil(hour_part_time['initial_sal_'])\n",
    "hour_full_time_temporary_75_25  = percentil(hour_full_time_temporary['initial_sal_'])\n",
    "\n",
    "\n",
    "# Finding the IQR\n",
    "def i_q_r(percentils):\n",
    "    return percentils[0]-percentils[1]\n",
    "\n",
    "iqr_hour_full_time           = i_q_r(hour_full_time_75_25)\n",
    "iqr_year_full_time           = i_q_r(year_full_time_75_25)\n",
    "iqr_year_full_time_temporary = i_q_r(year_full_time_temporary_75_25)\n",
    "iqr_hour_part_time           = i_q_r(hour_part_time_75_25)\n",
    "iqr_hour_full_time_temporary = i_q_r(hour_full_time_temporary_75_25)\n",
    "\n",
    "\n",
    "# Finding the limits\n",
    "def limits(percentil, iqr):\n",
    "    return percentil[0] + 1.5*iqr, percentil[1] - 1.5*iqr\n",
    "\n",
    "hour_full_time_up_low           = limits(hour_full_time_75_25,iqr_hour_full_time)\n",
    "year_full_time_up_low           = limits(year_full_time_75_25,iqr_year_full_time)\n",
    "year_full_time_temporary_up_low = limits(year_full_time_temporary_75_25,iqr_year_full_time_temporary)\n",
    "hour_part_time_up_low           = limits(hour_part_time_75_25,iqr_hour_part_time)\n",
    "hour_full_time_temporary_up_low = limits(hour_full_time_temporary_75_25,iqr_hour_full_time_temporary)\n",
    "print(year_full_time_up_low)\n",
    "\n",
    "\n",
    "# Trimming outliers\n",
    "def Trimming_outliers_up(dataset , column ,  up_low):\n",
    "    return dataset[dataset[column] < up_low[0]]\n",
    "    \n",
    "new_full_time_up                    = Trimming_outliers_up(hour_full_time, 'initial_sal_', hour_full_time_up_low)\n",
    "new_year_full_time_up               = Trimming_outliers_up(year_full_time, 'initial_sal_' , year_full_time_up_low)\n",
    "new_year_full_time_temporary_up     = Trimming_outliers_up(year_full_time_temporary, 'initial_sal_' ,year_full_time_temporary_up_low)\n",
    "new_hour_part_time_up               = Trimming_outliers_up(hour_part_time, 'initial_sal_' ,hour_part_time_up_low)  \n",
    "new_hour_full_time_temporary_up     = Trimming_outliers_up(hour_full_time_temporary, 'initial_sal_', hour_full_time_temporary_up_low)                            \n",
    "\n",
    "\n",
    "def Trimming_outliers_low(dataset , column ,  up_low):\n",
    "    return dataset[dataset[column] > up_low[1]]\n",
    "\n",
    "new_full_time_low                    = Trimming_outliers_low(new_full_time_up, 'initial_sal_', hour_full_time_up_low)\n",
    "new_year_full_time_low               = Trimming_outliers_low(new_year_full_time_up, 'initial_sal_' , year_full_time_up_low)\n",
    "new_year_full_time_temporary_low     = Trimming_outliers_low(new_year_full_time_temporary_up, 'initial_sal_' ,year_full_time_temporary_up_low)\n",
    "new_hour_part_time_low               = Trimming_outliers_low(new_hour_part_time_up, 'initial_sal_' ,hour_part_time_up_low)  \n",
    "new_hour_full_time_temporary_low     = Trimming_outliers_low(new_hour_full_time_temporary_up, 'initial_sal_', hour_full_time_temporary_up_low) \n",
    "\n"
   ]
  },
  {
   "attachments": {},
   "cell_type": "markdown",
   "metadata": {},
   "source": [
    "### Compare the plots after trimming"
   ]
  },
  {
   "cell_type": "code",
   "execution_count": 493,
   "metadata": {},
   "outputs": [
    {
     "data": {
      "image/png": "[encoded data removed]",
      "text/plain": [
       "<Figure size 864x432 with 4 Axes>"
      ]
     },
     "metadata": {
      "needs_background": "light"
     },
     "output_type": "display_data"
    },
    {
     "data": {
      "image/png": "[encoded data removed]",
      "text/plain": [
       "<Figure size 864x432 with 4 Axes>"
      ]
     },
     "metadata": {
      "needs_background": "light"
     },
     "output_type": "display_data"
    },
    {
     "data": {
      "image/png": "[encoded data removed]",
      "text/plain": [
       "<Figure size 864x432 with 4 Axes>"
      ]
     },
     "metadata": {
      "needs_background": "light"
     },
     "output_type": "display_data"
    },
    {
     "data": {
      "image/png": "[encoded data removed]",
      "text/plain": [
       "<Figure size 864x432 with 4 Axes>"
      ]
     },
     "metadata": {
      "needs_background": "light"
     },
     "output_type": "display_data"
    },
    {
     "data": {
      "image/png": "[encoded data removed]",
      "text/plain": [
       "<Figure size 864x432 with 4 Axes>"
      ]
     },
     "metadata": {
      "needs_background": "light"
     },
     "output_type": "display_data"
    }
   ],
   "source": [
    "\n",
    "import warnings\n",
    "warnings.filterwarnings('ignore')\n",
    "\n",
    "\n",
    "\n",
    "def plotting (dataset_orig, dataset_new):\n",
    "    plt.figure(figsize=(12,6))   \n",
    "    plt.subplot(2,2,1)\n",
    "    sns.distplot(dataset_orig , kde=True )\n",
    "    plt.subplot(2,2,2)\n",
    "    sns.boxplot(dataset_orig,color = \"orange\")\n",
    "    plt.subplot(2,2,3)\n",
    "    sns.distplot(dataset_new , kde=True )\n",
    "    plt.subplot(2,2,4)\n",
    "    sns.boxplot(dataset_new ,color = \"orange\" )\n",
    "  \n",
    "    \n",
    "plotting(hour_full_time['initial_sal_'], new_full_time_low['initial_sal_'])\n",
    "plt.title(\"hour_full_time\")\n",
    "plt.show()\n",
    "    \n",
    "\n",
    "plotting(year_full_time['initial_sal_'], new_year_full_time_low['initial_sal_'])\n",
    "plt.title(\"year_full_time\")\n",
    "plt.show()\n",
    "\n",
    "plotting(year_full_time_temporary['initial_sal_'], new_year_full_time_temporary_low['initial_sal_'])\n",
    "plt.title(\"year_full_time_temporary\")\n",
    "plt.show()\n",
    "\n",
    "plotting(hour_part_time['initial_sal_'], new_hour_part_time_low['initial_sal_'])\n",
    "plt.title(\"hour_part_time\")\n",
    "plt.show()\n",
    "\n",
    "plotting(hour_full_time_temporary['initial_sal_'], new_hour_full_time_temporary_low['initial_sal_'])\n",
    "plt.title(\"hour_full_time_temporary\")\n",
    "plt.show()"
   ]
  },
  {
   "attachments": {},
   "cell_type": "markdown",
   "metadata": {},
   "source": [
    "### The problem\n",
    "\n",
    "- Need to know about what’s most common, the ranges of distributions, etc."
   ]
  },
  {
   "attachments": {},
   "cell_type": "markdown",
   "metadata": {},
   "source": [
    "#### DESCRIPTIVE STATISTICS!"
   ]
  },
  {
   "attachments": {},
   "cell_type": "markdown",
   "metadata": {},
   "source": [
    "### Visualizar los datos"
   ]
  },
  {
   "attachments": {},
   "cell_type": "markdown",
   "metadata": {},
   "source": [
    "Para datos continuos y discretos podemos graficar un histograma que se obtiene:\n",
    "* Organizando los datos en grupos \n",
    "* Realizar el conteo de datos en cada grupo\n",
    "* Verificar si la información es normal (forma de campana) o sesgada (inclinada hacia uno de los lados)\n",
    "* Realizar diagramas boxplots para verificar los datos sesgados (Tanto para datos continuos como discretos)\n",
    "    - El extremos de bloxplot son los procentiles 25 y 75 por fuera estan los whisker que son el 25 o 75 + 1.25 el rango intercuartil\n",
    "    - Mas alla de los extemos del boxplot están los outliers "
   ]
  },
  {
   "cell_type": "code",
   "execution_count": null,
   "metadata": {},
   "outputs": [],
   "source": []
  },
  {
   "cell_type": "code",
   "execution_count": null,
   "metadata": {},
   "outputs": [],
   "source": []
  },
  {
   "cell_type": "code",
   "execution_count": null,
   "metadata": {},
   "outputs": [],
   "source": []
  },
  {
   "cell_type": "code",
   "execution_count": null,
   "metadata": {},
   "outputs": [],
   "source": []
  },
  {
   "attachments": {},
   "cell_type": "markdown",
   "metadata": {},
   "source": [
    "Para los datos Categoricos.\n",
    "- Hacer un conteo de ocurrencias por cada categoria o el porcentaje que representa la categoria de datos\n"
   ]
  },
  {
   "attachments": {},
   "cell_type": "markdown",
   "metadata": {},
   "source": [
    "### Analisis Bivariado y Multivariado"
   ]
  },
  {
   "cell_type": "markdown",
   "metadata": {},
   "source": [
    "Analisis Bivariado (compara de a dos variables para encontrar correlación)\n",
    "    - analizar pares de variables usando una grafica de dispersion por ejemplo slario y organiación\n",
    "    - Se pude analizar el indice de correlación donde un valor cercano a 1 = lineal -1=relacion lineal inversa cerca a 0=no correlación entre los datos\n",
    "    - Puede ser la comparación de una variable categorica con una númerica (grafica boxplot, violin)\n",
    "    - Se pueden comparar dos variables categoricas "
   ]
  },
  {
   "attachments": {},
   "cell_type": "markdown",
   "metadata": {},
   "source": [
    "Analisis Multivariado (compara simultaneamente todos los pares de variables para encontrar correlación)\n",
    "    - encontrar el indice de correlación en una matriz de correlación "
   ]
  },
  {
   "attachments": {},
   "cell_type": "markdown",
   "metadata": {},
   "source": [
    "### Sumarización"
   ]
  },
  {
   "attachments": {},
   "cell_type": "markdown",
   "metadata": {},
   "source": [
    "extracción de conclusiones mas importantes\n",
    "    - Frases mas cortas de la correlación o relación de variables "
   ]
  }
 ],
 "metadata": {
  "kernelspec": {
   "display_name": "Python 3",
   "language": "python",
   "name": "python3"
  },
  "language_info": {
   "codemirror_mode": {
    "name": "ipython",
    "version": 3
   },
   "file_extension": ".py",
   "mimetype": "text/x-python",
   "name": "python",
   "nbconvert_exporter": "python",
   "pygments_lexer": "ipython3",
   "version": "3.9.13"
  },
  "orig_nbformat": 4
 },
 "nbformat": 4,
 "nbformat_minor": 2
}
